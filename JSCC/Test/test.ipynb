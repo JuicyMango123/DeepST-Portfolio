{
 "cells": [
  {
   "cell_type": "code",
   "execution_count": 2,
   "id": "a7d6e932-8425-4506-bc21-dd54cfc7abd7",
   "metadata": {},
   "outputs": [
    {
     "name": "stdout",
     "output_type": "stream",
     "text": [
      "Input text:\n",
      "Check if the translation was successful\n",
      "\n",
      "\n",
      "Translation results:\n",
      "Won' t if the translation was successful\n",
      "\n"
     ]
    }
   ],
   "source": [
    "import requests\n",
    "import json\n",
    "\n",
    "# Define the URL of the API endpoint\n",
    "url = \"http://localhost:5555/translate\"\n",
    "\n",
    "# provide inputs one sentence a time. If multiple sentences, they can be disordered.\n",
    "# the training model requires the input sentence to be less than 30 words. longer sentence, the prediction accuracy will be reduced significantly.\n",
    "input_text = '''Check if the translation was successful\n",
    "'''\n",
    "\n",
    "# Define the input data in JSON format\n",
    "input_data = {\n",
    "    \"input_text\": input_text,\n",
    "#    \"input_file_path\": \"test.txt\",\n",
    "#    \"output_file_path\": \"output.txt\",\n",
    "#    \"checkpoint_path\": \"model_checkpoint.pth\",\n",
    "#    \"batch_size\": 32,\n",
    "#    \"num_steps\": 40\n",
    "}\n",
    "\n",
    "\n",
    "# Send a POST request to the API endpoint with the input data as the payload\n",
    "response = requests.post(url, json=input_data)\n",
    "\n",
    "#print(input_data)\n",
    "\n",
    "# Get the response data in JSON format\n",
    "output_data = response.json()\n",
    "\n",
    "# Check if the translation was started successfully\n",
    "if output_data['status'] == 'success':\n",
    "    # Define the URL of the API endpoint to get the translated text\n",
    "    url = \"http://localhost:5555/results\"\n",
    "\n",
    "    # Send a GET request to the API endpoint to get the translated text\n",
    "    response = requests.get(url)\n",
    "    \n",
    "    # Get the response data in JSON format\n",
    "    output_data = response.json()\n",
    "    \n",
    "    #print(output_data['output_text'])\n",
    "\n",
    "    # Check if the translation was successful\n",
    "    if output_data['status'] == 'success':\n",
    "        # Print the translated text\n",
    "        response_str = str(output_data)\n",
    "        response_lines = response_str.split('\\n')\n",
    "\n",
    "        print(\"Input text:\")\n",
    "        print(input_text+'\\n')\n",
    "\n",
    "        print(\"Translation results:\")\n",
    "        print(output_data['output_text'])\n",
    "\n",
    "    else:\n",
    "        print(\"Translation failed.\")\n",
    "else:\n",
    "    print(\"Failed to start translation.\") "
   ]
  },
  {
   "cell_type": "code",
   "execution_count": null,
   "id": "110af366-ef7b-4afe-8983-e9f215a8c97c",
   "metadata": {},
   "outputs": [],
   "source": []
  }
 ],
 "metadata": {
  "kernelspec": {
   "display_name": "Python 3 (ipykernel)",
   "language": "python",
   "name": "python3"
  },
  "language_info": {
   "codemirror_mode": {
    "name": "ipython",
    "version": 3
   },
   "file_extension": ".py",
   "mimetype": "text/x-python",
   "name": "python",
   "nbconvert_exporter": "python",
   "pygments_lexer": "ipython3",
   "version": "3.9.16"
  }
 },
 "nbformat": 4,
 "nbformat_minor": 5
}
